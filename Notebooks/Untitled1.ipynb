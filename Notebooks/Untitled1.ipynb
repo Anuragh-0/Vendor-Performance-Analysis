{
 "cells": [
  {
   "cell_type": "code",
   "execution_count": 1,
   "id": "7a43ef0e-05c8-4128-9d59-099932c1d85a",
   "metadata": {},
   "outputs": [],
   "source": [
    "# Pandas: for csv reading\n",
    "import pandas as pd\n",
    "# OS: for file and folder operation\n",
    "import os\n",
    "#sqlalchemy; To connect to SQlite\n",
    "from sqlalchemy import create_engine\n",
    "# logging: To track progress and errors\n",
    "import logging\n",
    "# time : to calculate how long the process takes\n",
    "import time"
   ]
  },
  {
   "cell_type": "markdown",
   "id": "3c600aa6-3fa0-4dee-a7f3-5334fd353584",
   "metadata": {},
   "source": [
    "### Checks if the logs folder exists.\n",
    "### If not, it creates it automatically so that logs can be saved inside."
   ]
  },
  {
   "cell_type": "code",
   "execution_count": 2,
   "id": "d908a819-95dc-4ad8-bbe6-26af62b09a96",
   "metadata": {},
   "outputs": [],
   "source": [
    "# create log folder\n",
    "if not os.path.exists(\"logs\"):\n",
    "    os.makedirs(\"logs\")"
   ]
  },
  {
   "cell_type": "markdown",
   "id": "93b882a7-b11c-4772-b993-85eafad1093d",
   "metadata": {},
   "source": [
    "#### Setting up loading:\n",
    "\n",
    " **filename** : log file location\n",
    "     \n",
    " **level** : log everything\n",
    "\n",
    " **format** : how logs will look (timestamp, level, message)\n",
    "\n",
    " **filemode='a'** : append to log file if already exits"
   ]
  },
  {
   "cell_type": "code",
   "execution_count": 3,
   "id": "c902c177-b8aa-4c4d-b7f2-55adaf937a5b",
   "metadata": {},
   "outputs": [],
   "source": [
    "# Reset logging handlers to avoid duplicate logs\n",
    "for handler in logging.root.handlers[:]:\n",
    "    logging.root.removedHandler(handler)"
   ]
  },
  {
   "cell_type": "code",
   "execution_count": 4,
   "id": "8b180929-8c14-4b8c-8007-3f778a302618",
   "metadata": {},
   "outputs": [],
   "source": [
    "# Setting up logging. Write logs into file and readable format\n",
    "logging.basicConfig(\n",
    "    filename = \"logs/ingestion_bd.log\",\n",
    "    level=logging.DEBUG,\n",
    "    format=\"%(asctime)s [%(levelname)s] %(message)s\",\n",
    "    filemode=\"a\" # 'a' = append the file\n",
    ")"
   ]
  },
  {
   "cell_type": "markdown",
   "id": "b0fe7e6e-ee07-46e3-a62c-4906c7f7a92a",
   "metadata": {},
   "source": [
    "#### Creating Inventory\n",
    "Creates the SQLite database connection\n",
    "- If inventory.db doesn't exists, it will create\n",
    "- If it exists, it will be used for saving tables"
   ]
  },
  {
   "cell_type": "code",
   "execution_count": 5,
   "id": "6b7dd02e-212d-4b10-9c52-4403e004c08f",
   "metadata": {},
   "outputs": [],
   "source": [
    "# Create SQLite engine (This create and connects to 'inventory.db')\n",
    "engine = create_engine('sqlite:///inventory.db')"
   ]
  },
  {
   "cell_type": "code",
   "execution_count": 6,
   "id": "3d66f210-ab94-4213-97df-8fc45bc96da6",
   "metadata": {},
   "outputs": [],
   "source": [
    "# This funtion will read large data in chunks and load into database\n",
    "def ingest_db(file_path, table_name, engine):\n",
    "    chunksize = 10000 #Load 10000 rows at a time to avoid memory issue\n",
    "    chunk_num = 1\n",
    "    first_chunk = True # First one replace the table next ones append\n",
    "    try: # Read CSV in chunks\n",
    "        for chunk in pd.read_csv(file_path, encoding = 'latin1',chunksize = chunksize): #for the first chunk replace existing table (if any)\n",
    "            if first_chunk:\n",
    "                chunk.to_sql(table_name, con=engine, if_exists='replace', index = False)\n",
    "                first_chunk = False\n",
    "            else: # for the est to append to existing table\n",
    "                chunk.to_sql(table_name, con=engine, if_exists='append', index = False)\n",
    "            # log after inserting each chunk\n",
    "            logging.info(f\"{table_name} - Intrested chunk {chunk_num}\")\n",
    "            logging.getLogger().handlers[0].flush() #flush loggs immediately\n",
    "            chunk_num += 1 # immediately write log to file\n",
    "    except Exception as e: \n",
    "        # log any errors during ingestion\n",
    "        logging.error(f\"Errors while ingesting {table_name}: {e}\")\n",
    "        logging.getLogger().handlers[0].flush()"
   ]
  },
  {
   "cell_type": "code",
   "execution_count": 7,
   "id": "d585f756-7b79-40a2-bab3-ebcbe62dfbfc",
   "metadata": {},
   "outputs": [],
   "source": [
    "# Load and ingest all csvs\n",
    "def load_raw_data():\n",
    "    start = time.time()\n",
    "    # loop through all csv file in 'data' folders\n",
    "    for file in os.listdir('data'):\n",
    "        if file.endswith('.csv') and not file.startswith('._'): # Ignore temp file\n",
    "            file_path = os.path.join('data',file)\n",
    "            # skip empty file\n",
    "            if os.path.getsize(file_path) == 0:\n",
    "                logging.warning(f\" Skipping empty file: {file}\")\n",
    "                continue\n",
    "                \n",
    "            logging.info(f\"Starting ingestion for {file}\")\n",
    "            ingest_db(file_path, file[:-4], engine) # Use file name without (.csv) as table name\n",
    "            logging.info(f\"Finished ingestion for {file}\")\n",
    "            logging.getLogger().handlers[0].flush()\n",
    "            \n",
    "    end = time.time() # end timer\n",
    "    total_time = (end - start) / 60 # total time in minutes\n",
    "    logging.info(\"--------------Ingestion Complete ---------------------\")\n",
    "    logging.info(f\"Total time taken: {total_time: .2f} minutes\")\n",
    "    logging.getLogger().handlers[0].flush()"
   ]
  },
  {
   "cell_type": "code",
   "execution_count": 8,
   "id": "f0baefcd-aba7-45d0-b231-d150042ee1e1",
   "metadata": {
    "scrolled": true
   },
   "outputs": [],
   "source": [
    "# Run the script\n",
    "load_raw_data()"
   ]
  },
  {
   "cell_type": "code",
   "execution_count": 10,
   "id": "d7e40acf-c98e-4c30-a6b4-c8aff9cc324e",
   "metadata": {},
   "outputs": [
    {
     "name": "stdout",
     "output_type": "stream",
     "text": [
      "['begin_inventory', 'end_inventory', 'purchase_prices', 'purchases', 'sales', 'vendor_invoice']\n"
     ]
    }
   ],
   "source": [
    "# checking tables name\n",
    "from sqlalchemy import inspect\n",
    "\n",
    "inspector = inspect(engine)\n",
    "print(inspector.get_table_names())"
   ]
  },
  {
   "cell_type": "code",
   "execution_count": 15,
   "id": "11062dab-6a21-49ff-b2d6-255313b00204",
   "metadata": {},
   "outputs": [
    {
     "name": "stdout",
     "output_type": "stream",
     "text": [
      "Rows in purchases table: 2372474\n"
     ]
    }
   ],
   "source": [
    "# Checking how many row were inserted in each table\n",
    "\n",
    "from sqlalchemy import text\n",
    "\n",
    "with engine.connect() as conn:\n",
    "    result = conn.execute(text(\"SELECT COUNT(*) FROM purchases\"))\n",
    "    print(\"Rows in purchases table:\", result.scalar())"
   ]
  },
  {
   "cell_type": "code",
   "execution_count": 16,
   "id": "57850bcf-5855-4d3f-94d3-e8aecd2950be",
   "metadata": {},
   "outputs": [
    {
     "name": "stdout",
     "output_type": "stream",
     "text": [
      "Rows in begin_inventory table: 206529\n"
     ]
    }
   ],
   "source": [
    "with engine.connect() as conn:\n",
    "    result = conn.execute(text(\"SELECT COUNT(*) FROM begin_inventory\"))\n",
    "    print(\"Rows in begin_inventory table:\", result.scalar())"
   ]
  },
  {
   "cell_type": "code",
   "execution_count": 17,
   "id": "a0d18d54-d784-44b7-b8fc-5af3b31c65e9",
   "metadata": {},
   "outputs": [
    {
     "name": "stdout",
     "output_type": "stream",
     "text": [
      "Rows in end_inventory table: 224489\n"
     ]
    }
   ],
   "source": [
    "with engine.connect() as conn:\n",
    "    result = conn.execute(text(\"SELECT COUNT(*) FROM end_inventory\"))\n",
    "    print(\"Rows in end_inventory table:\", result.scalar())"
   ]
  },
  {
   "cell_type": "code",
   "execution_count": 18,
   "id": "89e1a031-53aa-45d7-8169-d6f85c8e2860",
   "metadata": {},
   "outputs": [
    {
     "name": "stdout",
     "output_type": "stream",
     "text": [
      "Rows in purchase_prices table: 12261\n"
     ]
    }
   ],
   "source": [
    "with engine.connect() as conn:\n",
    "    result = conn.execute(text(\"SELECT COUNT(*) FROM purchase_prices\"))\n",
    "    print(\"Rows in purchase_prices table:\", result.scalar())"
   ]
  },
  {
   "cell_type": "code",
   "execution_count": 19,
   "id": "b4934f2e-231a-4af3-9d1f-c2a720da18c8",
   "metadata": {},
   "outputs": [
    {
     "name": "stdout",
     "output_type": "stream",
     "text": [
      "Rows in sales table: 12825363\n"
     ]
    }
   ],
   "source": [
    "with engine.connect() as conn:\n",
    "    result = conn.execute(text(\"SELECT COUNT(*) FROM sales\"))\n",
    "    print(\"Rows in sales table:\", result.scalar())"
   ]
  },
  {
   "cell_type": "code",
   "execution_count": 20,
   "id": "ed1e30ae-5e92-4f29-93ef-9bf51d8c9fc3",
   "metadata": {},
   "outputs": [
    {
     "name": "stdout",
     "output_type": "stream",
     "text": [
      "Rows in vendor_invoice table: 5543\n"
     ]
    }
   ],
   "source": [
    "with engine.connect() as conn:\n",
    "    result = conn.execute(text(\"SELECT COUNT(*) FROM vendor_invoice\"))\n",
    "    print(\"Rows in vendor_invoice table:\", result.scalar())"
   ]
  }
 ],
 "metadata": {
  "kernelspec": {
   "display_name": "Python 3 (ipykernel)",
   "language": "python",
   "name": "python3"
  },
  "language_info": {
   "codemirror_mode": {
    "name": "ipython",
    "version": 3
   },
   "file_extension": ".py",
   "mimetype": "text/x-python",
   "name": "python",
   "nbconvert_exporter": "python",
   "pygments_lexer": "ipython3",
   "version": "3.12.7"
  }
 },
 "nbformat": 4,
 "nbformat_minor": 5
}
